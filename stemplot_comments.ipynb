{
 "cells": [
  {
   "cell_type": "markdown",
   "metadata": {},
   "source": [
    "**Jacob Kovacs** | https://jtkovacs.com/"
   ]
  },
  {
   "cell_type": "markdown",
   "metadata": {},
   "source": [
    "## IMPORT LIBRARY & GENERATE TEST DATA"
   ]
  },
  {
   "cell_type": "code",
   "execution_count": 1,
   "metadata": {
    "collapsed": true
   },
   "outputs": [],
   "source": [
    "import random  # to generate test data\n",
    "\n",
    "pop_x = range(0,300,1)\n",
    "xn = 50\n",
    "x1 = random.sample(pop_x, xn) + random.sample(pop_x, xn)  # integer test data\n",
    "x2 = random.sample(pop_x, xn) + random.sample(pop_x, xn)\n",
    "\n",
    "pop_y = range(0,20,1)\n",
    "yn=20\n",
    "y1 = [i + random.uniform(0,10) for i in random.sample(pop_y, yn)]  # floats test data\n",
    "y1 = [i + random.uniform(0,10) for i in y1]\n",
    "y2 = [i + random.uniform(0,10) for i in random.sample(pop_y, yn)]"
   ]
  },
  {
   "cell_type": "markdown",
   "metadata": {},
   "source": [
    "\n",
    "## STEMPLOT FUNCTIONS"
   ]
  },
  {
   "cell_type": "code",
   "execution_count": 2,
   "metadata": {
    "collapsed": true
   },
   "outputs": [],
   "source": [
    "def print_legend(integer_data=True, num_stemplots=1):\n",
    "    \"\"\"\n",
    "    No return value; prints stemplot legend when called by create_stemplot() or compare_stemplots().\n",
    "    \n",
    "    Arguments: \n",
    "    integer_data is a Boolean reflecting the input datatype for create_stemplot(x) or compare_stemplots(x,y).\n",
    "    num_stemplots is an integer: 1 if called by create_stemplot(), 2 if called by compare_stemplots().\n",
    "    \"\"\"\n",
    "    \n",
    "    print 'LEGEND'\n",
    "    print '\\t----------------'\n",
    "    \n",
    "    \n",
    "    # create_stemplot(... integer_data=True)\n",
    "    if integer_data and num_stemplots == 1:  \n",
    "        print '\\t00|1 shows that x contains the number 1' \n",
    "        print '\\t12|25 shows that x contains 122, 125'\n",
    "    \n",
    "    \n",
    "    # compare_stemplots(... integer_data=True)\n",
    "    elif integer_data:  \n",
    "        print '\\t' + '1'.rjust(3) + '|00|1 shows that x and y both contain the number 1' \n",
    "        print '\\t850|12|25 shows that x contains numbers 128, 125, 120 and y contains 122, 125'\n",
    "    \n",
    "    \n",
    "    # create_stemplot(... integer_data=False)\n",
    "    elif num_stemplots == 1: \n",
    "        print '\\t12|25 shows that x contains 12.2, 12.5'\n",
    "        print '\\t1.2|25 shows that x contains 1.22, 1.25'\n",
    "        \n",
    "        \n",
    "    # compare_stemplots(... integer_data=False)\n",
    "    else:  \n",
    "        print '\\t' + '1'.rjust(3) + '|00|1 shows that x and y both contain the number 0.1' \n",
    "        print '\\t850|1.2|25 shows that x contains numbers 1.28, 1.25, 1.20 and y contains 1.22, 1.25'\n",
    "    print '\\t----------------'      \n",
    "    \n",
    "    "
   ]
  },
  {
   "cell_type": "code",
   "execution_count": 3,
   "metadata": {
    "collapsed": true
   },
   "outputs": [],
   "source": [
    "def pad_with_zeros(x, integer_data=True, precision=2):\n",
    "    \"\"\"\n",
    "    Return modified x as a list of strings when called by create_stemplot(). \n",
    "    Padding x with zeros is required to align stemplot outputs created by print_stemplot().\n",
    "    \n",
    "    Arguments: \n",
    "    x is a 1D list of integers or floats.\n",
    "    integer_data is a Boolean reflecting the input datatype for create_stemplot(x).\n",
    "    precision is an integer specifying #digits for rounding x when integer_data=False.\n",
    "    \"\"\"\n",
    "    \n",
    "    if integer_data:  \n",
    "        offset = max([len(str(i)) for i in x])\n",
    "        for i in range(len(x)):\n",
    "            x[i] = str(x[i])\n",
    "            \n",
    "            # prepend zeros so len(x[i]) == len(x[j]) for all i,j\n",
    "            while len(x[i]) < offset:\n",
    "                x[i] = '0' + x[i]\n",
    "    \n",
    "    \n",
    "    else:\n",
    "        # need when create_float_stemplot() is called by compare_stemplots()\n",
    "        x = [float(i) for i in x]\n",
    "        \n",
    "        offset = max([str(i).find('.') for i in x])\n",
    "        for i in range(len(x)):\n",
    "            \n",
    "            # round data to desired precision, default = 2 decimal places \n",
    "            x[i] = str(round(x[i], precision))\n",
    "            a,b = x[i].split('.')\n",
    "            \n",
    "            # pad with trailing zeros, e.g. 2.1 becomes 2.100 if precision=3\n",
    "            while len(b) < precision:\n",
    "                b = b + '0'\n",
    "                \n",
    "            # prepend zeros, e.g. 2.1 becomes 002.1\n",
    "            while len(a) < offset:\n",
    "                a = '0' + a\n",
    "            \n",
    "            x[i] = '.'.join([a, b]) \n",
    "        \n",
    "    \n",
    "    return x\n",
    "\n"
   ]
  },
  {
   "cell_type": "code",
   "execution_count": 4,
   "metadata": {
    "collapsed": false
   },
   "outputs": [],
   "source": [
    "def put_leaves_on_stems(x, precision, leaf_order):\n",
    "    \"\"\" \n",
    "    Return stemplot, a dictionary based on x.\n",
    "    The rightmost digit of each x[i] is a 'leaf'; remaining digits are the 'stem'.\n",
    "    Leaves are appended to each other if they share a stem.\n",
    "    E.g. if x[i]=001, x[j]=002, x[k]=006, then stemplot['00'] = '126'.\n",
    "    \n",
    "    Arguments:\n",
    "    x is a list of integers or floats.\n",
    "    precision is an integer formerly used for rounding x, here used to determine formatting.\n",
    "    If precision == 1, the decimal falls at the stem-ends and is dropped (the stemplot legend clarifies).\n",
    "    \"\"\"\n",
    "    \n",
    "    # create dictionary from data: stemplot = {'stem': ['leaf', 'leaf']}\n",
    "    stemplot = dict()\n",
    "    for em in x:\n",
    "        \n",
    "        # if stem is already in dictionary\n",
    "        if em[:-1] in stemplot:\n",
    "            # append the new leaf\n",
    "            stemplot[em[:-1]] = stemplot[em[:-1]] + em[-1]\n",
    "        \n",
    "        else:\n",
    "            # create a stem with its first leaf\n",
    "            stemplot[em[:-1]] = em[-1]\n",
    "    \n",
    "  \n",
    "    # sort dictionary values; sort in descending order if leaf_order = True\n",
    "    # make each dictionary value, currently a list of characters, into a string of characters\n",
    "    # e.g. stemplot = {'00': ['1','2','6']} becomes stemplot = {'00': '126'}\n",
    "    for key,value in stemplot.items():\n",
    "        stemplot[key] = ''.join(sorted(value, reverse=leaf_order))\n",
    "\n",
    "            \n",
    "    # reformat dictionary keys when decimal place coincides with stem-ends \n",
    "    # e.g. stemplot['124.': '1'] becomes stemplot['124': '1']\n",
    "    if precision == 1:\n",
    "        for key in stemplot.keys(): stemplot[key[:-1]] = stemplot.pop(key) \n",
    "            \n",
    "            \n",
    "    return stemplot\n",
    "\n"
   ]
  },
  {
   "cell_type": "code",
   "execution_count": 5,
   "metadata": {
    "collapsed": true
   },
   "outputs": [],
   "source": [
    "def print_stemplot(x_stemplot, y_stemplot=None):\n",
    "    \"\"\"\n",
    "    No return value. Prints stemplot when called by create_stemplot() or compare_stemplots().\n",
    "    \n",
    "    Arguments: \n",
    "    x_stemplot is a dictionary: {'x_stem': 'x_leaves'}.\n",
    "    y_stemplot is a dictionary: {'y_stem': 'y_leaves'}. Only supplied by create_stemplot().\n",
    "    \"\"\"\n",
    "\n",
    "    print 'DATA'\n",
    "    \n",
    "\n",
    "    if y_stemplot:\n",
    "        # print two stemplots as column of x_leaves|stem|y_leaves\n",
    "        # if x has no leaves but y does, print **|00|114\n",
    "        \n",
    "        # combine and sort dictionary keys from both x_stemplot and y_stemplot\n",
    "        for em in sorted(set(x_stemplot.keys()).union(set(y_stemplot.keys()))):  \n",
    "            \n",
    "            # offset, spacer used to justify print output\n",
    "            offset = max([len(val) for val in x_stemplot.values()])  \n",
    "            spacer = '*'*offset\n",
    "            \n",
    "            try: \n",
    "                # x_leaves|stem|y_values\n",
    "                print '\\t', x_stemplot[em].rjust(offset) + '|' + em + '|' + y_stemplot[em] \n",
    "                \n",
    "            except: \n",
    "                try: \n",
    "                    # x_leaves|stem|*****\n",
    "                    print x_stemplot[em].rjust(offset) + '|' + em + '|' + spacer  \n",
    "                    \n",
    "                except: \n",
    "                    # ****|stem|y_values \n",
    "                    print spacer.rjust(offset) + '|' + em + '|' + y_stemplot[em]  \n",
    "    \n",
    "\n",
    "    else:\n",
    "        # print single stemplot as column of stem|leaves\n",
    "        for key in sorted(x_stemplot.keys()):\n",
    "            print '\\t' + key + '|' + x_stemplot[key]\n",
    "    \n",
    "        "
   ]
  },
  {
   "cell_type": "code",
   "execution_count": 6,
   "metadata": {
    "collapsed": true
   },
   "outputs": [],
   "source": [
    "def create_stemplot(x, integer_data=True, precision=2, l=True, p=True, leaf_order=False):\n",
    "    \"\"\" \n",
    "    Return a dictionary where each key is a 'stem' and its associated value is a string of ordered 'leaves'. \n",
    "    \n",
    "    Arguments: \n",
    "    x, the data, is a 1D list of integers or floats.\n",
    "    integer_data is a Boolean denoting the datatype of x[i]; datatype is integer by default.\n",
    "    precision is an integer specifying #digits for rounding x when integer_data=False. \n",
    "    l is a Boolean where l=True means to print a legend.\n",
    "    p is a Boolean where p=True means to print the stemplot.\n",
    "    leaf_order is a Boolean used only when create_stemplot() is called by compare_stemplots().\n",
    "    \"\"\" \n",
    "    \n",
    "    # converts data to integers by default\n",
    "    if integer_data:\n",
    "        x = [int(i) for i in x]\n",
    "    \n",
    "    \n",
    "    # print legend for plot\n",
    "    if l: print_legend(integer_data=integer_data)\n",
    "        \n",
    "        \n",
    "    # pad x with leading or trailing zeros to align print_stemplot() output\n",
    "    # round x to desired precision if integer_data = False\n",
    "    x = pad_with_zeros(x, integer_data, precision=precision)    \n",
    "    \n",
    "    \n",
    "    # construct stemplot from data\n",
    "    stemplot = put_leaves_on_stems(x, precision, leaf_order)\n",
    "      \n",
    "        \n",
    "    # print stemplot\n",
    "    if p: print_stemplot(x_stemplot=stemplot)\n",
    "        \n",
    "        \n",
    "    return stemplot\n",
    "    \n",
    "    "
   ]
  },
  {
   "cell_type": "code",
   "execution_count": 7,
   "metadata": {
    "collapsed": false
   },
   "outputs": [],
   "source": [
    "def compare_stemplots(x, y, integer_data=True, precision=2, l=True):\n",
    "    \"\"\" No return value; function prints two stemplots that share their stem.\n",
    "    \n",
    "    Arguments: \n",
    "    x and y are two 1D lists of integers; can be floats or ints.\n",
    "    integer_data is a Boolean denoting the datatype of x[i] and y[i].\n",
    "    precision is an integer specifying #digits for rounding x, y when integer_data=False.\n",
    "    l is a Boolean where l=True means to print a legend.\n",
    "    \"\"\"      \n",
    "        \n",
    "    # print legend for plot\n",
    "    if l: print_legend(integer_data=integer_data, num_stemplots=2)\n",
    "        \n",
    "        \n",
    "    # create stemplots\n",
    "    # leaf_order is a Boolean used to mirror x data around the stem it shares with y\n",
    "    x_stemplot = create_stemplot(x, integer_data=integer_data, precision=precision, p=False, l=False, leaf_order=True)\n",
    "    y_stemplot = create_stemplot(y, integer_data=integer_data, precision=precision, p=False, l=False)\n",
    "        \n",
    "        \n",
    "    # print stemplots together\n",
    "    print_stemplot(x_stemplot, y_stemplot)\n",
    "    \n",
    "    "
   ]
  },
  {
   "cell_type": "markdown",
   "metadata": {},
   "source": [
    "## GENERATE TEST DATA & CALL FUNCTIONS"
   ]
  },
  {
   "cell_type": "code",
   "execution_count": 8,
   "metadata": {
    "collapsed": false
   },
   "outputs": [
    {
     "name": "stdout",
     "output_type": "stream",
     "text": [
      "LEGEND\n",
      "\t----------------\n",
      "\t00|1 shows that x contains the number 1\n",
      "\t12|25 shows that x contains 122, 125\n",
      "\t----------------\n",
      "DATA\n",
      "\t00|3679\n",
      "\t01|29\n",
      "\t02|0567\n",
      "\t03|077\n",
      "\t04|18\n",
      "\t05|39\n",
      "\t06|12468\n",
      "\t07|14\n",
      "\t08|679\n",
      "\t09|1234499\n",
      "\t10|688\n",
      "\t11|34567\n",
      "\t12|2367\n",
      "\t14|13\n",
      "\t15|5667\n",
      "\t16|44689\n",
      "\t17|02\n",
      "\t19|0278\n",
      "\t20|16\n",
      "\t21|4899\n",
      "\t22|24589\n",
      "\t23|133\n",
      "\t24|145\n",
      "\t25|05\n",
      "\t26|0678\n",
      "\t27|1567\n",
      "\t28|003447\n",
      "\t29|0246\n"
     ]
    }
   ],
   "source": [
    "#def create_stemplot(x, integer_data=True, precision=2, l=True, p=True, leaf_order=False):\n",
    "x1_stemplot = create_stemplot(x1)"
   ]
  },
  {
   "cell_type": "code",
   "execution_count": 9,
   "metadata": {
    "collapsed": false
   },
   "outputs": [
    {
     "name": "stdout",
     "output_type": "stream",
     "text": [
      "LEGEND\n",
      "\t----------------\n",
      "\t  1|00|1 shows that x and y both contain the number 1\n",
      "\t850|12|25 shows that x contains numbers 128, 125, 120 and y contains 122, 125\n",
      "\t----------------\n",
      "DATA\n",
      "\t   9763|00|223\n",
      "\t     92|01|023456\n",
      "\t   7650|02|79\n",
      "\t    770|03|1145\n",
      "\t     81|04|00268\n",
      "\t     93|05|118\n",
      "\t  86421|06|138\n",
      "\t     41|07|8\n",
      "\t    976|08|026\n",
      "\t9944321|09|2589\n",
      "\t    886|10|2479\n",
      "\t  76543|11|9\n",
      "\t   7632|12|013678\n",
      "\t*******|13|6\n",
      "\t     31|14|0244\n",
      "\t   7665|15|5\n",
      "\t  98644|16|579\n",
      "\t     20|17|0178\n",
      "\t*******|18|02568\n",
      "\t   8720|19|0166\n",
      "\t     61|20|8\n",
      "\t   9984|21|3357\n",
      "\t  98542|22|146\n",
      "\t    331|23|25689\n",
      "\t    541|24|0168\n",
      "\t     50|25|1589\n",
      "\t   8760|26|22\n",
      "\t   7651|27|17\n",
      "\t 744300|28|35789\n",
      "\t   6420|29|148\n"
     ]
    }
   ],
   "source": [
    "#def compare_stemplots(x, y, integer_data=True, precision=2, l=True):\n",
    "x1_x2_stemplot = compare_stemplots(x1, x2)"
   ]
  },
  {
   "cell_type": "code",
   "execution_count": 10,
   "metadata": {
    "collapsed": false
   },
   "outputs": [
    {
     "name": "stdout",
     "output_type": "stream",
     "text": [
      "LEGEND\n",
      "\t----------------\n",
      "\t12|25 shows that x contains 12.2, 12.5\n",
      "\t1.2|25 shows that x contains 1.22, 1.25\n",
      "\t----------------\n",
      "DATA\n",
      "\t10.3|4\n",
      "\t11.7|4\n",
      "\t13.0|1\n",
      "\t13.8|3\n",
      "\t14.3|6\n",
      "\t14.8|2\n",
      "\t15.4|8\n",
      "\t16.2|8\n",
      "\t16.9|4\n",
      "\t17.3|1\n",
      "\t17.7|2\n",
      "\t21.1|7\n",
      "\t25.4|1\n",
      "\t26.7|5\n",
      "\t27.4|9\n",
      "\t27.5|0\n",
      "\t30.2|7\n",
      "\t30.7|7\n",
      "\t31.2|9\n",
      "\t34.3|2\n"
     ]
    }
   ],
   "source": [
    "#def create_stemplot(x, integer_data=True, precision=2, l=True, p=True, leaf_order=False):\n",
    "y1_stemplot = create_stemplot(y1, integer_data=False, precision=2)"
   ]
  },
  {
   "cell_type": "code",
   "execution_count": 11,
   "metadata": {
    "collapsed": false
   },
   "outputs": [
    {
     "name": "stdout",
     "output_type": "stream",
     "text": [
      "LEGEND\n",
      "\t----------------\n",
      "\t  1|00|1 shows that x and y both contain the number 0.1\n",
      "\t850|1.2|25 shows that x contains numbers 1.28, 1.25, 1.20 and y contains 1.22, 1.25\n",
      "\t----------------\n",
      "DATA\n",
      "\t**|03|4\n",
      "\t**|04|8\n",
      "\t**|07|3\n",
      "\t**|08|9\n",
      "\t**|09|2\n",
      "\t 3|10|55\n",
      "\t 7|11|27\n",
      "\t80|13|01\n",
      "\t84|14|4\n",
      "\t 5|15|**\n",
      "\t93|16|37\n",
      "\t73|17|**\n",
      "\t**|20|1\n",
      "\t 2|21|**\n",
      "\t**|22|15\n",
      "\t**|23|69\n",
      "\t 4|25|**\n",
      "\t 7|26|**\n",
      "\t55|27|5\n",
      "\t83|30|**\n",
      "\t 3|31|**\n",
      "\t 3|34|**\n"
     ]
    }
   ],
   "source": [
    "#def compare_stemplots(x, y, integer_data=True, precision=2, l=True):\n",
    "y1_y2_stemplot = compare_stemplots(y1, y2, integer_data=False, precision=1)"
   ]
  }
 ],
 "metadata": {
  "kernelspec": {
   "display_name": "Python 2",
   "language": "python",
   "name": "python2"
  },
  "language_info": {
   "codemirror_mode": {
    "name": "ipython",
    "version": 2
   },
   "file_extension": ".py",
   "mimetype": "text/x-python",
   "name": "python",
   "nbconvert_exporter": "python",
   "pygments_lexer": "ipython2",
   "version": "2.7.11"
  }
 },
 "nbformat": 4,
 "nbformat_minor": 0
}
