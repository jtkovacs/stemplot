{
 "cells": [
  {
   "cell_type": "markdown",
   "metadata": {},
   "source": [
    "**Jacob Kovacs** | https://jtkovacs.com/"
   ]
  },
  {
   "cell_type": "markdown",
   "metadata": {},
   "source": [
    "## IMPORT LIBRARY & GENERATE TEST DATA"
   ]
  },
  {
   "cell_type": "code",
   "execution_count": 1,
   "metadata": {
    "collapsed": true
   },
   "outputs": [],
   "source": [
    "import random\n",
    "\n",
    "pop_x = range(0,300,1)\n",
    "xn = 50\n",
    "x1 = random.sample(pop_x, xn) + random.sample(pop_x, xn)\n",
    "x2 = random.sample(pop_x, xn) + random.sample(pop_x, xn)\n",
    "\n",
    "pop_y = range(0,20,1)\n",
    "yn=20\n",
    "y1 = [i + random.uniform(0,10) for i in random.sample(pop_y, yn)]\n",
    "y1 = [i + random.uniform(0,10) for i in y1]\n",
    "y2 = [i + random.uniform(0,10) for i in random.sample(pop_y, yn)]"
   ]
  },
  {
   "cell_type": "markdown",
   "metadata": {},
   "source": [
    "\n",
    "## STEMPLOT FUNCTIONS"
   ]
  },
  {
   "cell_type": "code",
   "execution_count": 2,
   "metadata": {
    "collapsed": true
   },
   "outputs": [],
   "source": [
    "def print_legend(integer_data=True, num_stemplots=1):\n",
    "\n",
    "    print 'LEGEND'\n",
    "    print '\\t----------------'\n",
    "    \n",
    "    if integer_data and num_stemplots == 1:  \n",
    "        print '\\t00|1 shows that x contains the number 1' \n",
    "        print '\\t12|25 shows that x contains 122, 125'\n",
    "\n",
    "    elif integer_data:  \n",
    "        print '\\t' + '1'.rjust(3) + '|00|1 shows that x and y both contain the number 1' \n",
    "        print '\\t850|12|25 shows that x contains numbers 128, 125, 120 and y contains 122, 125'\n",
    "    \n",
    "    elif num_stemplots == 1: \n",
    "        print '\\t12|25 shows that x contains 12.2, 12.5'\n",
    "        print '\\t1.2|25 shows that x contains 1.22, 1.25'\n",
    "        \n",
    "    else:  \n",
    "        print '\\t' + '1'.rjust(3) + '|00|1 shows that x and y both contain the number 0.1' \n",
    "        print '\\t850|1.2|25 shows that x contains numbers 1.28, 1.25, 1.20 and y contains 1.22, 1.25'\n",
    "        \n",
    "    print '\\t----------------'       "
   ]
  },
  {
   "cell_type": "code",
   "execution_count": 3,
   "metadata": {
    "collapsed": true
   },
   "outputs": [],
   "source": [
    "def pad_with_zeros(x, integer_data=True, precision=2):\n",
    "    \n",
    "    if integer_data:  \n",
    "        offset = max([len(str(i)) for i in x])\n",
    "        for i in range(len(x)):\n",
    "            x[i] = str(x[i])\n",
    "            while len(x[i]) < offset:\n",
    "                x[i] = '0' + x[i]\n",
    "    else:\n",
    "        x = [float(i) for i in x]    \n",
    "        offset = max([str(i).find('.') for i in x])\n",
    "        for i in range(len(x)):\n",
    "            x[i] = str(round(x[i], precision))\n",
    "            a,b = x[i].split('.')\n",
    "            while len(b) < precision:\n",
    "                b = b + '0'\n",
    "            while len(a) < offset:\n",
    "                a = '0' + a \n",
    "            x[i] = '.'.join([a, b]) \n",
    "        \n",
    "    return x"
   ]
  },
  {
   "cell_type": "code",
   "execution_count": 4,
   "metadata": {
    "collapsed": false
   },
   "outputs": [],
   "source": [
    "def put_leaves_on_stems(x, precision, leaf_order):\n",
    "\n",
    "    stemplot = dict()\n",
    "    \n",
    "    for em in x:        \n",
    "        if em[:-1] in stemplot:\n",
    "            stemplot[em[:-1]] = stemplot[em[:-1]] + em[-1]\n",
    "        else:\n",
    "            stemplot[em[:-1]] = em[-1]\n",
    "    \n",
    "    for key,value in stemplot.items():\n",
    "        stemplot[key] = ''.join(sorted(value, reverse=leaf_order))\n",
    "\n",
    "    if precision == 1:\n",
    "        for key in stemplot.keys(): stemplot[key[:-1]] = stemplot.pop(key)         \n",
    "            \n",
    "    return stemplot"
   ]
  },
  {
   "cell_type": "code",
   "execution_count": 5,
   "metadata": {
    "collapsed": true
   },
   "outputs": [],
   "source": [
    "def print_stemplot(x_stemplot, y_stemplot=None):\n",
    "    \n",
    "    print 'DATA'    \n",
    "\n",
    "    if y_stemplot:\n",
    "        for em in sorted(set(x_stemplot.keys()).union(set(y_stemplot.keys()))):  \n",
    "            offset = max([len(val) for val in x_stemplot.values()])  \n",
    "            spacer = '*'*offset\n",
    "            try: \n",
    "                print '\\t', x_stemplot[em].rjust(offset) + '|' + em + '|' + y_stemplot[em] \n",
    "            except: \n",
    "                try: \n",
    "                    print x_stemplot[em].rjust(offset) + '|' + em + '|' + spacer                      \n",
    "                except: \n",
    "                    print spacer.rjust(offset) + '|' + em + '|' + y_stemplot[em]  \n",
    "    else:\n",
    "        for key in sorted(x_stemplot.keys()):\n",
    "            print '\\t' + key + '|' + x_stemplot[key]"
   ]
  },
  {
   "cell_type": "code",
   "execution_count": 6,
   "metadata": {
    "collapsed": true
   },
   "outputs": [],
   "source": [
    "def create_stemplot(x, integer_data=True, precision=2, l=True, p=True, leaf_order=False):\n",
    "\n",
    "    if integer_data:\n",
    "        x = [int(i) for i in x]\n",
    "    \n",
    "    if l: \n",
    "        print_legend(integer_data=integer_data)\n",
    "\n",
    "    x = pad_with_zeros(x, integer_data, precision=precision)        \n",
    "    stemplot = put_leaves_on_stems(x, precision, leaf_order)\n",
    "    \n",
    "    if p: \n",
    "        print_stemplot(x_stemplot=stemplot)\n",
    "        \n",
    "    return stemplot"
   ]
  },
  {
   "cell_type": "code",
   "execution_count": 7,
   "metadata": {
    "collapsed": false
   },
   "outputs": [],
   "source": [
    "def compare_stemplots(x, y, integer_data=True, precision=2, l=True):\n",
    "   \n",
    "    if l: \n",
    "        print_legend(integer_data=integer_data, num_stemplots=2)\n",
    "   \n",
    "    x_stemplot = create_stemplot(x, integer_data=integer_data, precision=precision, p=False, l=False, leaf_order=True)\n",
    "    y_stemplot = create_stemplot(y, integer_data=integer_data, precision=precision, p=False, l=False)\n",
    "    print_stemplot(x_stemplot, y_stemplot)"
   ]
  },
  {
   "cell_type": "markdown",
   "metadata": {},
   "source": [
    "## GENERATE TEST DATA & CALL FUNCTIONS"
   ]
  },
  {
   "cell_type": "code",
   "execution_count": 8,
   "metadata": {
    "collapsed": false
   },
   "outputs": [
    {
     "name": "stdout",
     "output_type": "stream",
     "text": [
      "LEGEND\n",
      "\t----------------\n",
      "\t00|1 shows that x contains the number 1\n",
      "\t12|25 shows that x contains 122, 125\n",
      "\t----------------\n",
      "DATA\n",
      "\t00|36\n",
      "\t01|36\n",
      "\t02|2479\n",
      "\t03|24\n",
      "\t04|67\n",
      "\t05|37\n",
      "\t06|0778\n",
      "\t07|899\n",
      "\t08|01149\n",
      "\t09|03456788\n",
      "\t10|38\n",
      "\t11|44\n",
      "\t12|0378\n",
      "\t13|57\n",
      "\t14|359\n",
      "\t15|018\n",
      "\t16|455689\n",
      "\t17|69\n",
      "\t18|14\n",
      "\t19|2\n",
      "\t20|258\n",
      "\t21|23899\n",
      "\t22|249\n",
      "\t23|05\n",
      "\t24|034899\n",
      "\t25|4568\n",
      "\t26|0456\n",
      "\t27|344578\n",
      "\t28|00139\n",
      "\t29|3\n"
     ]
    }
   ],
   "source": [
    "x1_stemplot = create_stemplot(x1)"
   ]
  },
  {
   "cell_type": "code",
   "execution_count": 9,
   "metadata": {
    "collapsed": false
   },
   "outputs": [
    {
     "name": "stdout",
     "output_type": "stream",
     "text": [
      "LEGEND\n",
      "\t----------------\n",
      "\t  1|00|1 shows that x and y both contain the number 1\n",
      "\t850|12|25 shows that x contains numbers 128, 125, 120 and y contains 122, 125\n",
      "\t----------------\n",
      "DATA\n",
      "\t      63|00|2467\n",
      "\t      63|01|2678\n",
      "\t    9742|02|02477\n",
      "\t      42|03|23469\n",
      "\t      76|04|23378\n",
      "\t      73|05|3\n",
      "\t    8770|06|0135669\n",
      "\t     998|07|2339\n",
      "\t   94110|08|012467\n",
      "\t88765430|09|9\n",
      "\t      83|10|08\n",
      "\t      44|11|47\n",
      "\t    8730|12|146\n",
      "\t      75|13|2\n",
      "\t     953|14|445\n",
      "\t     810|15|0\n",
      "\t  986554|16|3579\n",
      "\t      96|17|039\n",
      "\t      41|18|0019\n",
      "\t       2|19|44\n",
      "\t     852|20|138\n",
      "\t   99832|21|149\n",
      "\t     942|22|67\n",
      "\t      50|23|4\n",
      "\t  998430|24|01168\n",
      "\t    8654|25|247\n",
      "\t    6540|26|24589\n",
      "\t  875443|27|0469\n",
      "\t   93100|28|01\n",
      "\t       3|29|66788\n"
     ]
    }
   ],
   "source": [
    "x1_x2_stemplot = compare_stemplots(x1, x2)"
   ]
  },
  {
   "cell_type": "code",
   "execution_count": 10,
   "metadata": {
    "collapsed": false
   },
   "outputs": [
    {
     "name": "stdout",
     "output_type": "stream",
     "text": [
      "LEGEND\n",
      "\t----------------\n",
      "\t12|25 shows that x contains 12.2, 12.5\n",
      "\t1.2|25 shows that x contains 1.22, 1.25\n",
      "\t----------------\n",
      "DATA\n",
      "\t10.0|3\n",
      "\t10.3|3\n",
      "\t12.0|4\n",
      "\t12.3|2\n",
      "\t12.9|1\n",
      "\t14.2|7\n",
      "\t16.1|2\n",
      "\t16.3|0\n",
      "\t16.7|9\n",
      "\t17.2|9\n",
      "\t17.7|2\n",
      "\t18.4|7\n",
      "\t20.2|4\n",
      "\t22.2|9\n",
      "\t24.6|0\n",
      "\t25.0|6\n",
      "\t25.7|0\n",
      "\t28.3|18\n",
      "\t36.2|4\n"
     ]
    }
   ],
   "source": [
    "y1_stemplot = create_stemplot(y1, integer_data=False, precision=2)"
   ]
  },
  {
   "cell_type": "code",
   "execution_count": 11,
   "metadata": {
    "collapsed": false
   },
   "outputs": [
    {
     "name": "stdout",
     "output_type": "stream",
     "text": [
      "LEGEND\n",
      "\t----------------\n",
      "\t  1|00|1 shows that x and y both contain the number 0.1\n",
      "\t850|1.2|25 shows that x contains numbers 1.28, 1.25, 1.20 and y contains 1.22, 1.25\n",
      "\t----------------\n",
      "DATA\n",
      "\t***|04|9\n",
      "\t***|05|027\n",
      "\t***|07|1\n",
      "\t 30|10|7\n",
      "\t***|11|39\n",
      "\t930|12|***\n",
      "\t***|13|58\n",
      "\t  3|14|9\n",
      "\t831|16|***\n",
      "\t 73|17|237\n",
      "\t  5|18|16\n",
      "\t***|19|1\n",
      "\t  2|20|1\n",
      "\t***|21|3\n",
      "\t  3|22|2\n",
      "\t  6|24|***\n",
      "\t 71|25|***\n",
      "\t 43|28|***\n",
      "\t  2|36|***\n"
     ]
    }
   ],
   "source": [
    "y1_y2_stemplot = compare_stemplots(y1, y2, integer_data=False, precision=1)"
   ]
  }
 ],
 "metadata": {
  "kernelspec": {
   "display_name": "Python 2",
   "language": "python",
   "name": "python2"
  },
  "language_info": {
   "codemirror_mode": {
    "name": "ipython",
    "version": 2
   },
   "file_extension": ".py",
   "mimetype": "text/x-python",
   "name": "python",
   "nbconvert_exporter": "python",
   "pygments_lexer": "ipython2",
   "version": "2.7.11"
  }
 },
 "nbformat": 4,
 "nbformat_minor": 0
}
