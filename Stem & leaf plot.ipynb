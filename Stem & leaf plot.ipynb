{
 "cells": [
  {
   "cell_type": "markdown",
   "metadata": {},
   "source": [
    "## IMPORT LIBRARY"
   ]
  },
  {
   "cell_type": "code",
   "execution_count": 1,
   "metadata": {
    "collapsed": true
   },
   "outputs": [],
   "source": [
    "import random  # to generate test data"
   ]
  },
  {
   "cell_type": "markdown",
   "metadata": {},
   "source": [
    "\n",
    "## STEMPLOT FUNCTIONS"
   ]
  },
  {
   "cell_type": "markdown",
   "metadata": {},
   "source": [
    "### CREATES SINGLE STEMPLOT FROM INTEGER DATA"
   ]
  },
  {
   "cell_type": "code",
   "execution_count": 2,
   "metadata": {
    "collapsed": false
   },
   "outputs": [],
   "source": [
    "def create_int_stemplot(x, l=True, p=True, leaf_order=False):\n",
    "    \"\"\" Return a dictionary where each key is a 'stem' and its associated value is a string of ordered 'leaves'. \n",
    "    \n",
    "    Arguments: x, the data, is a 1D list of integers.\n",
    "    l is a Boolean where l=True means to print a legend.\n",
    "    p is a Boolean where p=True means to print the stemplot.\n",
    "    leaf_order is a Boolean used only when create_int_stemplot() is called by compare_stemplots().\n",
    "    \"\"\"\n",
    "    \n",
    "    # print legend for plot\n",
    "    if l:\n",
    "        print 'LEGEND'\n",
    "        print '\\t----------------'\n",
    "        print '\\t00|1 shows that x contains the number 1' \n",
    "        print '\\t12|25 shows that x contains 122, 125'\n",
    "        print '\\t----------------'\n",
    "        \n",
    "        \n",
    "    # prepend zeros so len(x[i]) == len(x[j]) for all i,j\n",
    "    offset = max([len(str(i)) for i in x])\n",
    "    for i in range(len(x)):\n",
    "        x[i] = str(x[i])\n",
    "        while len(x[i]) < offset:\n",
    "            x[i] = '0' + x[i]\n",
    " \n",
    "\n",
    "    # create dictionary from data: stemplot = {'stem': ['leaf', 'leaf']}\n",
    "    # store 1s digit of each x[i] according to its 10s and 100s digit\n",
    "    # e.g. if x[i]=001, x[j]=002, x[k]=006, stemplot = {'00': ['1','2','6']}\n",
    "    # e.g. if x[i]=021 and x[j]=218, stemplot = {'02': ['1'], '21', ['8']}\n",
    "    stemplot = dict()\n",
    "    for em in x:\n",
    "        # if stem is already in dictionary\n",
    "        if em[:-1] in stemplot:\n",
    "            # append the new leaf\n",
    "            stemplot[em[:-1]] = stemplot[em[:-1]] + em[-1]\n",
    "        else:\n",
    "            # create a stem with its first leaf\n",
    "            stemplot[em[:-1]] = em[-1]\n",
    " \n",
    "\n",
    "    # make each dictionary value, currently a list of characters, into a string of characters\n",
    "    # e.g. stemplot = {'00': ['1','2','6']} becomes stemplot = {'00': '126'}\n",
    "    # sort dictionary values; sort in descending order if leaf_order = True\n",
    "    for key,value in stemplot.items():\n",
    "        stemplot[key] = ''.join(sorted(value, reverse=leaf_order))\n",
    "            \n",
    "            \n",
    "    # prints stemplot as column of stem|leaves\n",
    "    # e.g. 08|012446\n",
    "    #      09|002\n",
    "    if p:\n",
    "        print 'DATA'\n",
    "        for i in sorted(stemplot.keys()):\n",
    "            print '\\t' + i + '|' + stemplot[i]\n",
    "        \n",
    "        \n",
    "    return stemplot"
   ]
  },
  {
   "cell_type": "markdown",
   "metadata": {},
   "source": [
    "### CREATES SINGLE STEMPLOT FROM FLOAT DATA"
   ]
  },
  {
   "cell_type": "code",
   "execution_count": 3,
   "metadata": {
    "collapsed": false
   },
   "outputs": [],
   "source": [
    "def create_float_stemplot(x, p=True, l=False, leaf_order=True, precision=2):\n",
    "    \"\"\" Return a dictionary where each key is a 'stem' and its associated value is a string of ordered 'leaves'. \n",
    "    \n",
    "    Arguments: x, the data, is a 1D list of integers.\n",
    "    l is a Boolean where l=True means to print a legend.\n",
    "    p is a Boolean where p=True means to print the stemplot.\n",
    "    leaf_order is a Boolean used when create_int_stemplot() is called by compare_stemplots().\n",
    "    precision is an integer specifying the number of digits for rounding x.\n",
    "    \"\"\"\n",
    "    \n",
    "    # need when create_float_stemplot() is called by compare_stemplots()\n",
    "    x = [float(i) for i in x]\n",
    "    \n",
    "    \n",
    "    # round data to desired precision, default = 2 decimal places    \n",
    "    # pad with trailing zeros, e.g. 2.1 becomes 2.100 if precision=3\n",
    "    # prepend zeros, e.g. 2.1 becomes 002.1\n",
    "    offset = max([str(i).find('.') for i in x])\n",
    "    for i in range(len(x)):\n",
    "        x[i] = str(round(x[i], precision))\n",
    "        a,b = x[i].split('.')\n",
    "        while len(b) < precision:\n",
    "            b = b + '0'\n",
    "        while len(a) < offset:\n",
    "            a = '0' + a\n",
    "        x[i] = '.'.join([a, b]) \n",
    "    \n",
    "    \n",
    "    # print legend for plot\n",
    "    if l:\n",
    "        print 'LEGEND'\n",
    "        print '\\t----------------'\n",
    "        print '\\t12|25 shows that x contains 12.2, 12.5'\n",
    "        print '\\t1.2|25 shows that x contains 1.22, 1.25'\n",
    "        print '\\t----------------'\n",
    "   \n",
    "\n",
    "    # create dictionary from data: stemplot = {'stem': ['leaf', 'leaf']}\n",
    "    # store 1s digit of each x[i] according to its 10s and 100s digit\n",
    "    # e.g. if x[i] = 001, x[j] = 002, x[k] = 006, stemplot = {'00': ['1','2','6']}\n",
    "    # e.g. if x[i] = 021 and x[j] = 218, stemplot = {'02': ['1'], '21', ['8']}\n",
    "    stemplot = dict()\n",
    "    for em in x:\n",
    "        # if stem is already in dictionary\n",
    "        if em[:-1] in stemplot:\n",
    "            # append the new leaf\n",
    "            stemplot[em[:-1]] = stemplot[em[:-1]] + em[-1]\n",
    "        else:\n",
    "            # create a stem with its first leaf\n",
    "            stemplot[em[:-1]] = em[-1]\n",
    "\n",
    "            \n",
    "    # reformat dictionary keys when stem-end coincides with decimal place  \n",
    "    # e.g. stemplot['124.': '1'] becomes stemplot['124': '1']\n",
    "    if precision == 1:\n",
    "        for key in stemplot.keys(): stemplot[key[:-1]] = stemplot.pop(key) \n",
    "\n",
    "            \n",
    "    # make each dictionary value, currently a list of characters, into a string of characters\n",
    "    # e.g. stemplot = {'00': ['1','2','6']} becomes stemplot = {'00': '126'}\n",
    "    # sort dictionary values; sort in descending order if leaf_order = True\n",
    "    for key,value in stemplot.items():\n",
    "        stemplot[key] = ''.join(sorted(value, reverse=leaf_order))\n",
    "            \n",
    "            \n",
    "    # prints stemplot as column of stem|leaves\n",
    "    # e.g. 08|012446\n",
    "    #      09|002\n",
    "    if p:\n",
    "        print 'DATA'\n",
    "        for key in sorted(stemplot.keys()):\n",
    "            print '\\t' + key + '|' + stemplot[key]\n",
    "    \n",
    "    \n",
    "    return stemplot"
   ]
  },
  {
   "cell_type": "markdown",
   "metadata": {},
   "source": [
    "### CREATES TWO STEMPLOTS FROM INTEGER OR FLOATS DATA"
   ]
  },
  {
   "cell_type": "code",
   "execution_count": 4,
   "metadata": {
    "collapsed": false
   },
   "outputs": [],
   "source": [
    "def compare_stemplots(x, y, integer_data=True, precision=2):\n",
    "    \"\"\" No return value; function prints two stemplots that share their stem.\n",
    "    \n",
    "    Arguments: x and y, the data, are two 1D lists of integers; can be floats or ints.\n",
    "    integer_data is a Boolean where integer_data = True means to call create_int_stemplot() on x and y; \n",
    "    integer_data = False means to call create_float_stemplot() on x and y.\n",
    "    precision is an integer specifying the number of digits for rounding x, y when calling create_float_stemplot().\n",
    "    \"\"\"\n",
    "        \n",
    "    # create stemplots for floats or integer data\n",
    "    # leaf_order is a Boolean used to mirror x data around its stem shared with y\n",
    "    if integer_data:\n",
    "        x_stemplot = create_int_stemplot(x, p=False, l=False, leaf_order=True)\n",
    "        y_stemplot = create_int_stemplot(y, p=False, l=False)\n",
    "    else:\n",
    "        x_stemplot = create_float_stemplot(x, p=False, l=False, leaf_order=True, precision=precision)\n",
    "        y_stemplot = create_float_stemplot(y, p=False, l=False, precision=precision)\n",
    "        \n",
    "    # print legend for floats or integer data\n",
    "    print 'LEGEND \\n \\t----------------'\n",
    "    if integer_data:\n",
    "        print '\\t' + '1'.rjust(3) + '|00|1 shows that x and y both contain the number 1' \n",
    "        print '\\t850|12|25 shows that x contains numbers 128, 125, 120 and y contains 122, 125'\n",
    "    else:\n",
    "        print '\\t' + '1'.rjust(3) + '|00|1 shows that x and y both contain the number 0.1' \n",
    "        print '\\t850|1.2|25 shows that x contains numbers 1.28, 1.25, 1.20 and y contains 1.22, 1.25'\n",
    "    print '\\t----------------'\n",
    "        \n",
    "    \n",
    "    # print floats or integer data as column of x_leaves|stem|y_leaves\n",
    "    # e.g. 10|13|125\n",
    "    # if x has no leaves but y does, print **|00|114\n",
    "    # if y has no leaves but x does, print 61|02|***\n",
    "    print 'DATA'\n",
    "    for em in sorted(set(x_stemplot.keys()).union(set(y_stemplot.keys()))):  # sorted keys for both dictionaries\n",
    "        offset = max([len(val) for val in x_stemplot.values()])  # used to justify text\n",
    "        spacer = '*'*offset  # used to justify text\n",
    "        try: print '\\t', x_stemplot[em].rjust(offset) + '|' + em + '|' + y_stemplot[em]  # x_leaves|stem|y_values\n",
    "        except: \n",
    "            try: print x_stemplot[em].rjust(offset) + '|' + em + '|' + spacer  # x_leaves|stem|*****\n",
    "            except: print spacer.rjust(offset) + '|' + em + '|' + y_stemplot[em]  # ****|stem|y_values      "
   ]
  },
  {
   "cell_type": "markdown",
   "metadata": {},
   "source": [
    "## GENERATE TEST DATA & CALL FUNCTIONS"
   ]
  },
  {
   "cell_type": "code",
   "execution_count": 5,
   "metadata": {
    "collapsed": false
   },
   "outputs": [],
   "source": [
    "pop_x = range(0,300,1)\n",
    "xn = 50\n",
    "x1 = random.sample(pop_x, xn) + random.sample(pop_x, xn)  # integer test data\n",
    "x2 = random.sample(pop_x, xn) + random.sample(pop_x, xn)"
   ]
  },
  {
   "cell_type": "code",
   "execution_count": 6,
   "metadata": {
    "collapsed": false
   },
   "outputs": [
    {
     "name": "stdout",
     "output_type": "stream",
     "text": [
      "LEGEND\n",
      "\t----------------\n",
      "\t00|1 shows that x contains the number 1\n",
      "\t12|25 shows that x contains 122, 125\n",
      "\t----------------\n",
      "DATA\n",
      "\t00|478\n",
      "\t01|014679\n",
      "\t02|57\n",
      "\t03|33469\n",
      "\t04|3\n",
      "\t05|26\n",
      "\t06|567799\n",
      "\t07|2\n",
      "\t08|46\n",
      "\t09|56\n",
      "\t10|2\n",
      "\t11|589\n",
      "\t12|012469\n",
      "\t13|259\n",
      "\t14|036778\n",
      "\t15|3\n",
      "\t16|489\n",
      "\t17|79\n",
      "\t18|1224677\n",
      "\t19|089\n",
      "\t20|89\n",
      "\t21|289\n",
      "\t22|04579\n",
      "\t23|4457\n",
      "\t24|4\n",
      "\t25|3779\n",
      "\t26|0129\n",
      "\t27|78\n",
      "\t28|7899\n",
      "\t29|013459\n"
     ]
    }
   ],
   "source": [
    "x1_stemplot = create_int_stemplot(x1, l=True)"
   ]
  },
  {
   "cell_type": "code",
   "execution_count": 7,
   "metadata": {
    "collapsed": false
   },
   "outputs": [
    {
     "name": "stdout",
     "output_type": "stream",
     "text": [
      "LEGEND \n",
      " \t----------------\n",
      "\t  1|00|1 shows that x and y both contain the number 1\n",
      "\t850|12|25 shows that x contains numbers 128, 125, 120 and y contains 122, 125\n",
      "\t----------------\n",
      "DATA\n",
      "\t    874|00|3579\n",
      "\t 976410|01|458\n",
      "\t     75|02|*******\n",
      "\t  96433|03|389\n",
      "\t      3|04|578\n",
      "\t     62|05|168\n",
      "\t 997765|06|3457\n",
      "\t      2|07|044\n",
      "\t     64|08|27\n",
      "\t     65|09|234579\n",
      "\t      2|10|35667\n",
      "\t    985|11|035\n",
      "\t 964210|12|25688\n",
      "\t    952|13|3\n",
      "\t 877630|14|36\n",
      "\t      3|15|5\n",
      "\t    984|16|1137\n",
      "\t     97|17|035688\n",
      "\t7764221|18|1456\n",
      "\t    980|19|568\n",
      "\t     98|20|02489\n",
      "\t    982|21|0258\n",
      "\t  97540|22|06\n",
      "\t   7544|23|1359\n",
      "\t      4|24|467\n",
      "\t   9773|25|37\n",
      "\t   9210|26|0278\n",
      "\t     87|27|02679\n",
      "\t   9987|28|017\n",
      "\t 954310|29|468\n"
     ]
    }
   ],
   "source": [
    "x1_x2_stemplot = compare_stemplots(x1, x2)"
   ]
  },
  {
   "cell_type": "code",
   "execution_count": 8,
   "metadata": {
    "collapsed": true
   },
   "outputs": [],
   "source": [
    "pop_y = range(0,20,1)\n",
    "yn=20\n",
    "y1 = [i + random.uniform(0,10) for i in random.sample(pop_y, yn)]  # floats test data\n",
    "y1 = [i + random.uniform(0,10) for i in y1]\n",
    "y2 = [i + random.uniform(0,10) for i in random.sample(pop_y, yn)]"
   ]
  },
  {
   "cell_type": "code",
   "execution_count": 9,
   "metadata": {
    "collapsed": false
   },
   "outputs": [
    {
     "name": "stdout",
     "output_type": "stream",
     "text": [
      "LEGEND\n",
      "\t----------------\n",
      "\t12|25 shows that x contains 12.2, 12.5\n",
      "\t1.2|25 shows that x contains 1.22, 1.25\n",
      "\t----------------\n",
      "DATA\n",
      "\t05.00|9\n",
      "\t09.23|4\n",
      "\t11.61|2\n",
      "\t12.50|7\n",
      "\t14.47|7\n",
      "\t16.36|3\n",
      "\t17.42|6\n",
      "\t17.58|8\n",
      "\t18.25|6\n",
      "\t18.71|3\n",
      "\t19.19|3\n",
      "\t20.16|6\n",
      "\t20.39|4\n",
      "\t21.07|3\n",
      "\t22.29|8\n",
      "\t22.54|9\n",
      "\t25.20|4\n",
      "\t25.65|0\n",
      "\t32.71|4\n",
      "\t34.62|9\n"
     ]
    }
   ],
   "source": [
    "y1_stemplot = create_float_stemplot(y1, l=True, precision=3)"
   ]
  },
  {
   "cell_type": "code",
   "execution_count": 10,
   "metadata": {
    "collapsed": false
   },
   "outputs": [
    {
     "name": "stdout",
     "output_type": "stream",
     "text": [
      "LEGEND \n",
      " \t----------------\n",
      "\t  1|00|1 shows that x and y both contain the number 0.1\n",
      "\t850|1.2|25 shows that x contains numbers 1.28, 1.25, 1.20 and y contains 1.22, 1.25\n",
      "\t----------------\n",
      "DATA\n",
      "\t 0|05|6\n",
      "\t**|07|3\n",
      "\t 2|09|80\n",
      "\t 6|11|9\n",
      "\t 5|12|974\n",
      "\t**|13|2\n",
      "\t 5|14|42\n",
      "\t**|15|4\n",
      "\t 4|16|81\n",
      "\t64|17|**\n",
      "\t73|18|631\n",
      "\t 2|19|7\n",
      "\t42|20|**\n",
      "\t 1|21|**\n",
      "\t53|22|**\n",
      "\t72|25|3\n",
      "\t**|26|1\n",
      "\t 7|32|**\n",
      "\t 6|34|**\n"
     ]
    }
   ],
   "source": [
    "y1_y2_stemplot = compare_stemplots(y1, y2, integer_data=False, precision=1)"
   ]
  }
 ],
 "metadata": {
  "kernelspec": {
   "display_name": "Python 2",
   "language": "python",
   "name": "python2"
  },
  "language_info": {
   "codemirror_mode": {
    "name": "ipython",
    "version": 2
   },
   "file_extension": ".py",
   "mimetype": "text/x-python",
   "name": "python",
   "nbconvert_exporter": "python",
   "pygments_lexer": "ipython2",
   "version": "2.7.11"
  }
 },
 "nbformat": 4,
 "nbformat_minor": 0
}
